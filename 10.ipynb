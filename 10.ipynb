{
  "nbformat": 4,
  "nbformat_minor": 0,
  "metadata": {
    "colab": {
      "provenance": [],
      "authorship_tag": "ABX9TyOczfclEF7cm2KZHt+PWVpO"
    },
    "kernelspec": {
      "name": "python3",
      "display_name": "Python 3"
    },
    "language_info": {
      "name": "python"
    }
  },
  "cells": [
    {
      "cell_type": "markdown",
      "source": [
        "В ячейке ниже представлен код генерирующий DataFrame, которая состоит всего из 1 столбца.\n",
        "\n",
        "Ваша задача перевести его в one hot вид.\n",
        "\n",
        "Сможете ли вы это сделать без get_dummies?"
      ],
      "metadata": {
        "id": "nkpF4NjM0sUf"
      }
    },
    {
      "cell_type": "code",
      "source": [
        "import pandas as pd  # подключить библиотеку pandas"
      ],
      "metadata": {
        "id": "Y8jR3kjJ0WRP"
      },
      "execution_count": 11,
      "outputs": []
    },
    {
      "cell_type": "code",
      "source": [
        "import random\n",
        "lst = ['robot'] * 10\n",
        "lst += ['human'] * 10\n",
        "print(*lst)\n",
        "print()\n",
        "random.shuffle(lst)\n",
        "data = pd.DataFrame({'whoAmI':lst})\n",
        "data.head()\n",
        "print(data)"
      ],
      "metadata": {
        "colab": {
          "base_uri": "https://localhost:8080/"
        },
        "id": "8AIenMtu3OuD",
        "outputId": "48769b8b-d598-4d38-cee0-1578d3a34ef0"
      },
      "execution_count": 20,
      "outputs": [
        {
          "output_type": "stream",
          "name": "stdout",
          "text": [
            "robot robot robot robot robot robot robot robot robot robot human human human human human human human human human human\n",
            "\n",
            "   whoAmI\n",
            "0   robot\n",
            "1   human\n",
            "2   human\n",
            "3   robot\n",
            "4   robot\n",
            "5   robot\n",
            "6   human\n",
            "7   robot\n",
            "8   human\n",
            "9   robot\n",
            "10  human\n",
            "11  human\n",
            "12  robot\n",
            "13  human\n",
            "14  robot\n",
            "15  human\n",
            "16  human\n",
            "17  robot\n",
            "18  robot\n",
            "19  human\n"
          ]
        }
      ]
    },
    {
      "cell_type": "code",
      "source": [
        "#pd.get_dummies(data['whoAmI'])\n",
        "data.loc[data['whoAmI'] == 'robot', 'robot'] = '1'\n",
        "data.loc[data['whoAmI'] == 'human', 'human'] = '1'\n",
        "data.loc[data['whoAmI'] != 'robot', 'robot'] = '0'\n",
        "data.loc[data['whoAmI'] != 'human', 'human'] = '0'\n",
        "data.head(20)\n",
        "print(data)"
      ],
      "metadata": {
        "colab": {
          "base_uri": "https://localhost:8080/"
        },
        "id": "T2OBCS7V1phd",
        "outputId": "5d955813-9557-4054-c72e-5e38289a03f7"
      },
      "execution_count": 18,
      "outputs": [
        {
          "output_type": "stream",
          "name": "stdout",
          "text": [
            "   whoAmI robot human\n",
            "0   human     0     1\n",
            "1   human     0     1\n",
            "2   robot     1     0\n",
            "3   robot     1     0\n",
            "4   robot     1     0\n",
            "5   human     0     1\n",
            "6   robot     1     0\n",
            "7   human     0     1\n",
            "8   robot     1     0\n",
            "9   human     0     1\n",
            "10  robot     1     0\n",
            "11  human     0     1\n",
            "12  human     0     1\n",
            "13  robot     1     0\n",
            "14  human     0     1\n",
            "15  human     0     1\n",
            "16  human     0     1\n",
            "17  robot     1     0\n",
            "18  robot     1     0\n",
            "19  robot     1     0\n"
          ]
        }
      ]
    }
  ]
}
